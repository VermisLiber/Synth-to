{
 "cells": [
  {
   "cell_type": "code",
   "execution_count": 1,
   "id": "12e7079f-2c3b-4d7d-8570-acc58036bbc7",
   "metadata": {
    "tags": []
   },
   "outputs": [],
   "source": [
    "%run z.py"
   ]
  },
  {
   "cell_type": "code",
   "execution_count": null,
   "id": "c5818d4e-6648-49c2-b86b-c069b19c2e9d",
   "metadata": {},
   "outputs": [],
   "source": []
  }
 ],
 "metadata": {
  "kernelspec": {
   "display_name": "Python 3 (ipykernel)",
   "language": "python",
   "name": "python3"
  },
  "language_info": {
   "codemirror_mode": {
    "name": "ipython",
    "version": 3
   },
   "file_extension": ".py",
   "mimetype": "text/x-python",
   "name": "python",
   "nbconvert_exporter": "python",
   "pygments_lexer": "ipython3",
   "version": "3.9.1"
  }
 },
 "nbformat": 4,
 "nbformat_minor": 5
}
